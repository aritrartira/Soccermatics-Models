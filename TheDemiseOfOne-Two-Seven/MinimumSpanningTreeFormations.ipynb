{
  "nbformat": 4,
  "nbformat_minor": 0,
  "metadata": {
    "colab": {
      "name": "MinimumSpanningTreeFormations.ipynb",
      "private_outputs": true,
      "provenance": [],
      "authorship_tag": "ABX9TyP9QmNWLNg/AbrAzNPAGsnz",
      "include_colab_link": true
    },
    "kernelspec": {
      "name": "python3",
      "display_name": "Python 3"
    },
    "language_info": {
      "name": "python"
    }
  },
  "cells": [
    {
      "cell_type": "markdown",
      "metadata": {
        "id": "view-in-github",
        "colab_type": "text"
      },
      "source": [
        "<a href=\"https://colab.research.google.com/github/aritrartira/Soccermatics-Models/blob/main/TheDemiseOfOne-Two-Seven/MinimumSpanningTreeFormations.ipynb\" target=\"_parent\"><img src=\"https://colab.research.google.com/assets/colab-badge.svg\" alt=\"Open In Colab\"/></a>"
      ]
    },
    {
      "cell_type": "markdown",
      "metadata": {
        "id": "mt5KJmGk7bAq"
      },
      "source": [
        "# Installing Required Libraries"
      ]
    },
    {
      "cell_type": "code",
      "metadata": {
        "id": "xUWnGRlkEpFF"
      },
      "source": [
        "!pip install mplsoccer"
      ],
      "execution_count": null,
      "outputs": []
    },
    {
      "cell_type": "markdown",
      "metadata": {
        "id": "qgc5cx4L7e2A"
      },
      "source": [
        "# Importing Required Libraries"
      ]
    },
    {
      "cell_type": "code",
      "metadata": {
        "id": "gs5KTH68XHRf"
      },
      "source": [
        "import matplotlib.pyplot as plt\n",
        "from mplsoccer.pitch import Pitch\n",
        "import math"
      ],
      "execution_count": null,
      "outputs": []
    },
    {
      "cell_type": "markdown",
      "metadata": {
        "id": "7vh8BM-286iO"
      },
      "source": [
        "# Structure to represent the formation as a graph\n",
        "\n",
        "## Method to generate the nework formed by combining the MST and \"second-shortest MST\" "
      ]
    },
    {
      "cell_type": "code",
      "metadata": {
        "id": "5jRp0CGaft-E"
      },
      "source": [
        "class Player:\n",
        "    def __init__(self, x, y):\n",
        "        self.x = x\n",
        "        self.y = y\n",
        "\n",
        "class FormationGraph:\n",
        "    def __init__(self, formation):\n",
        "        self.players = list()\n",
        "\n",
        "        for player in formation:\n",
        "            self.players.append(Player(player[0], player[1]))\n",
        "        \n",
        "        self.adj_matrix = []\n",
        "        for i in range(len(self.players)):\n",
        "            temp = []\n",
        "            for j in range(len(self.players)):\n",
        "                temp.append(math.sqrt((self.players[i].x - self.players[j].x) ** 2+ (self.players[i].y - self.players[j].y) ** 2))\n",
        "            self.adj_matrix.append(temp)\n",
        "\n",
        "    def get_mst(self):\n",
        "        T = set()\n",
        "        VS = []\n",
        "        for _ in range(11):\n",
        "            VS.append({_})\n",
        "\n",
        "        edges = []\n",
        "        for i in range(10):\n",
        "            for j in range(i + 1, 11):\n",
        "                edges.append(((i, j), self.adj_matrix[i][j]))\n",
        "\n",
        "        edges.sort(key = lambda x: x[1], reverse = True)\n",
        "\n",
        "        while (len(VS) > 0 and len(edges) != 0):\n",
        "            edge = edges.pop()[0]\n",
        "\n",
        "            flag = False\n",
        "            set1 = set()\n",
        "            set2 = set()\n",
        "            set3 = set()\n",
        "            for s in VS:\n",
        "                if edge[0] in s and edge[1] not in s and flag == False:\n",
        "                    set1 = s\n",
        "                    flag = True\n",
        "                if edge[1] in s and edge[0] not in s and flag == True:\n",
        "                    set2 = s\n",
        "                    set3 = set1.union(set2)\n",
        "                    VS.remove(set1)\n",
        "                    VS.remove(set2)\n",
        "                    VS.append(set3)\n",
        "                    T.add(edge)\n",
        "                    break\n",
        "\n",
        "        v = -1\n",
        "        minv = -1\n",
        "        flag = False\n",
        "        for j in VS:\n",
        "            if len(j) == 1:\n",
        "                flag = True\n",
        "                v = list(j)[0]\n",
        "                break\n",
        "\n",
        "        if flag == True:\n",
        "            min = 100\n",
        "            for k in range(11):\n",
        "                if v != k:\n",
        "                    if min > math.sqrt(((self.players[v].x - self.players[k].x) ** 2+ (self.players[v].y - self.players[k].y) ** 2)):\n",
        "                        min = math.sqrt(((self.players[v].x - self.players[k].x) ** 2+ (self.players[v].y - self.players[k].y) ** 2))\n",
        "                        minv = k\n",
        "\n",
        "        if minv != v and minv != -1:\n",
        "            T.add((v, k))\n",
        "\n",
        "        T1 = set()\n",
        "        VS = []\n",
        "        for _ in range(11):\n",
        "            VS.append({_})\n",
        "\n",
        "        edges = []\n",
        "        for i in range(10):\n",
        "            for j in range(i + 1, 11):\n",
        "                edges.append(((i, j), self.adj_matrix[i][j]))\n",
        "\n",
        "        edges.sort(key = lambda x: x[1], reverse = True)\n",
        "        \n",
        "        for i in T:\n",
        "            for j in edges:\n",
        "                if i == j[0]:\n",
        "                    edges.remove(j)\n",
        "\n",
        "        while (len(VS) > 0 and len(edges) != 0):\n",
        "            edge = edges.pop()[0]\n",
        "\n",
        "            flag = False\n",
        "            set1 = set()\n",
        "            set2 = set()\n",
        "            set3 = set()\n",
        "            for s in VS:\n",
        "                if edge[0] in s and edge[1] not in s and flag == False:\n",
        "                    set1 = s\n",
        "                    flag = True\n",
        "                if edge[1] in s and edge[0] not in s and flag == True:\n",
        "                    set2 = s\n",
        "                    set3 = set1.union(set2)\n",
        "                    VS.remove(set1)\n",
        "                    VS.remove(set2)\n",
        "                    VS.append(set3)\n",
        "                    T1.add(edge)\n",
        "                    break\n",
        "\n",
        "        v = -1\n",
        "        minv = -1\n",
        "        flag = False\n",
        "        for j in VS:\n",
        "            if len(j) == 1:\n",
        "                flag = True\n",
        "                v = list(j)[0]\n",
        "                break\n",
        "\n",
        "        if flag == True:\n",
        "            min = 100\n",
        "            for k in range(11):\n",
        "                if v != k:\n",
        "                    if min > math.sqrt(((self.players[v].x - self.players[k].x) ** 2+ (self.players[v].y - self.players[k].y) ** 2)):\n",
        "                        min = math.sqrt(((self.players[v].x - self.players[k].x) ** 2+ (self.players[v].y - self.players[k].y) ** 2))\n",
        "                        minv = k\n",
        "\n",
        "        if minv != v and minv != -1:\n",
        "            T1.add((v, k))\n",
        "\n",
        "        return T.union(T1)"
      ],
      "execution_count": null,
      "outputs": []
    },
    {
      "cell_type": "markdown",
      "metadata": {
        "id": "9-tQ8R35BkwQ"
      },
      "source": [
        "# Plotting the Network on the Pitch"
      ]
    },
    {
      "cell_type": "code",
      "metadata": {
        "id": "z61BhT_RhcYC"
      },
      "source": [
        "pitch = Pitch(pitch_type='statsbomb', stripe=False, figsize=(10,10), pitch_color='grass', line_color='white')\n",
        "fig, ax = pitch.draw()\n",
        "\n",
        "formation = FormationGraph([(0.85, 0.49), (0.62, 0.54), (0.58, 0.37), (0.56, 0.75), (0.50, 0.73), (0.48, 0.83), (0.44, 0.37), (0.41, 0.64), (0.37, 0.90), (0.33, 0.81), (0.32, 0.65)])\n",
        "\n",
        "for player in formation.players:\n",
        "    marker = plt.Circle((player.x * 130, player.y * 90 - 5), 2, color=\"black\")\n",
        "    ax.add_patch(marker)\n",
        "\n",
        "for i in formation.get_mst():\n",
        "    edge = plt.Line2D([formation.players[list(i)[0]].x * 130, formation.players[list(i)[1]].x * 130], [formation.players[list(i)[0]].y * 90 - 5, formation.players[list(i)[1]].y * 90 - 5], color= 'black')\n",
        "    ax.add_line(edge)"
      ],
      "execution_count": null,
      "outputs": []
    },
    {
      "cell_type": "code",
      "metadata": {
        "id": "yPWpS7DBCiQd"
      },
      "source": [
        ""
      ],
      "execution_count": null,
      "outputs": []
    }
  ]
}