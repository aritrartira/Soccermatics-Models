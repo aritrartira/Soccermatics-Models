{
  "nbformat": 4,
  "nbformat_minor": 0,
  "metadata": {
    "colab": {
      "name": "RandomSubbuteo.ipynb",
      "private_outputs": true,
      "provenance": [],
      "collapsed_sections": [],
      "toc_visible": true,
      "authorship_tag": "ABX9TyNy8y77S6SQlKBcU6QUJ5uN",
      "include_colab_link": true
    },
    "kernelspec": {
      "name": "python3",
      "display_name": "Python 3"
    },
    "language_info": {
      "name": "python"
    }
  },
  "cells": [
    {
      "cell_type": "markdown",
      "metadata": {
        "id": "view-in-github",
        "colab_type": "text"
      },
      "source": [
        "<a href=\"https://colab.research.google.com/github/aritrartira/Soccermatics-Models/blob/main/OnThePitch/INeverPredictAnythingAndINeverWill/code/RandomSubbuteo.ipynb\" target=\"_parent\"><img src=\"https://colab.research.google.com/assets/colab-badge.svg\" alt=\"Open In Colab\"/></a>"
      ]
    },
    {
      "cell_type": "code",
      "metadata": {
        "id": "d3GfnBwdv3Lk"
      },
      "source": [
        "import pandas as pd\n",
        "import matplotlib.pyplot as plt\n",
        "import numpy as np\n",
        "import random\n",
        "import seaborn as sns"
      ],
      "execution_count": null,
      "outputs": []
    },
    {
      "cell_type": "markdown",
      "metadata": {
        "id": "jEtdPZl5uh7w"
      },
      "source": [
        "# Random Subbuteo"
      ]
    },
    {
      "cell_type": "markdown",
      "metadata": {
        "id": "J-P59J_SuqYC"
      },
      "source": [
        "# Goals Scored in football matches across a season can be modeled using a Poisson Distribution"
      ]
    },
    {
      "cell_type": "markdown",
      "metadata": {
        "id": "DB-Xxcev9Xpz"
      },
      "source": [
        "### Getting the Data"
      ]
    },
    {
      "cell_type": "code",
      "metadata": {
        "id": "P1_Y_8kKug_1"
      },
      "source": [
        "table = pd.read_csv(\"/content/PL2019_AllMatches.csv\")\n",
        "total_goals = np.sum(table['GF'].to_numpy())\n",
        "goals_per_min = total_goals / (380 * 90)\n",
        "goals_per_min"
      ],
      "execution_count": null,
      "outputs": []
    },
    {
      "cell_type": "code",
      "metadata": {
        "id": "PT0fNDjX4Ojf"
      },
      "source": [
        "matches = pd.read_csv(\"/content/PL2019_AllMatches.csv\")\n",
        "scores = [score for score in matches['Score'].to_list() if type(score) == str]\n",
        "goals = [int(score[0]) + int(score[-1]) for score in scores]\n",
        "goals"
      ],
      "execution_count": null,
      "outputs": []
    },
    {
      "cell_type": "code",
      "metadata": {
        "id": "QkX0xQ7m6Aft"
      },
      "source": [
        "actual_outcomes = dict()\n",
        "\n",
        "for i in goals:\n",
        "    if i not in actual_outcomes.keys():\n",
        "        actual_outcomes[i] = 1\n",
        "    else:\n",
        "        actual_outcomes[i] = actual_outcomes[i] + 1\n",
        "\n",
        "keys = list(actual_outcomes.keys())\n",
        "keys.sort()\n",
        "actual_outcomes_x = np.array(keys)\n",
        "actual_outcomes_y = np.array([actual_outcomes[key] for key in keys])\n",
        "\n",
        "actual_outcomes_x, actual_outcomes_y"
      ],
      "execution_count": null,
      "outputs": []
    },
    {
      "cell_type": "markdown",
      "metadata": {
        "id": "LMpMaCVu9c91"
      },
      "source": [
        "### Performing Simulations"
      ]
    },
    {
      "cell_type": "code",
      "metadata": {
        "id": "BcEelGfjw9Ku"
      },
      "source": [
        "outcomes = dict()\n",
        "\n",
        "for _ in range(10000):\n",
        "    if _ % 1000 == 0:\n",
        "        print(_)\n",
        "\n",
        "    for j in range(380):\n",
        "        goals = 0\n",
        "        for i in range(90):\n",
        "            if (random.random() <= goals_per_min):\n",
        "                goals = goals + 1\n",
        "\n",
        "        if goals not in outcomes.keys():\n",
        "            outcomes[goals] = 1\n",
        "        else:\n",
        "            outcomes[goals] = outcomes[goals] + 1\n",
        "\n",
        "keys = list(outcomes.keys())\n",
        "keys.sort()\n",
        "outcomes_x = np.array(keys)\n",
        "outcomes_y = np.array([outcomes[key] / 10000 for key in keys])\n",
        "\n",
        "outcomes_x, outcomes_y"
      ],
      "execution_count": null,
      "outputs": []
    },
    {
      "cell_type": "markdown",
      "metadata": {
        "id": "dXV6sV309gvF"
      },
      "source": [
        "### Plotting"
      ]
    },
    {
      "cell_type": "code",
      "metadata": {
        "id": "ZYrZSbI5zHil"
      },
      "source": [
        "plt.figure()\n",
        "sns.barplot(x = actual_outcomes_x, y = actual_outcomes_y, color = '#999999')\n",
        "plt.plot(outcomes_x, outcomes_y, linewidth = 3)\n",
        "plt.xlabel(\"Number of goals in a match\")\n",
        "plt.ylabel(\"Matches\")\n",
        "plt.title(\"Histogram depicting Number of goals scored in EPL 2019-20\\nmatches compared to the Poisson Distribution (Solid Line)\")\n",
        "plt.show()"
      ],
      "execution_count": null,
      "outputs": []
    },
    {
      "cell_type": "code",
      "metadata": {
        "id": "cl2pYLHR9o82"
      },
      "source": [
        ""
      ],
      "execution_count": null,
      "outputs": []
    }
  ]
}